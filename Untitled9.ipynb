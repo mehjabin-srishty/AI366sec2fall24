{
  "nbformat": 4,
  "nbformat_minor": 0,
  "metadata": {
    "colab": {
      "provenance": [],
      "authorship_tag": "ABX9TyNPeVmBE5y65kjMGVjtBx75",
      "include_colab_link": true
    },
    "kernelspec": {
      "name": "python3",
      "display_name": "Python 3"
    },
    "language_info": {
      "name": "python"
    }
  },
  "cells": [
    {
      "cell_type": "markdown",
      "metadata": {
        "id": "view-in-github",
        "colab_type": "text"
      },
      "source": [
        "<a href=\"https://colab.research.google.com/github/mehjabin-srishty/AI366sec2fall24/blob/main/Untitled9.ipynb\" target=\"_parent\"><img src=\"https://colab.research.google.com/assets/colab-badge.svg\" alt=\"Open In Colab\"/></a>"
      ]
    },
    {
      "cell_type": "code",
      "execution_count": 7,
      "metadata": {
        "colab": {
          "base_uri": "https://localhost:8080/"
        },
        "id": "Dx6_Y3jgYHrf",
        "outputId": "f931bac1-30ce-4d4f-99b6-c22a6f20b864"
      },
      "outputs": [
        {
          "output_type": "stream",
          "name": "stdout",
          "text": [
            "File '/content/roll.txt.txt' already exists. No new rolls generated.\n",
            "How many random student IDs would you like to pick ? 15\n",
            "Randomly selected student IDs: ['12', '3', '17', '18', '20', '5', '2', '27', '21', '7', '10', '15', '19', '22', '1']\n"
          ]
        }
      ],
      "source": [
        "import random\n",
        "import os\n",
        "\n",
        "class StudentIDManager:\n",
        "    def __init__(self, path):\n",
        "        self.path = path\n",
        "        self.directory = os.path.dirname(path)\n",
        "        if self.directory and not os.path.exists(self.directory):\n",
        "            os.makedirs(self.directory)\n",
        "\n",
        "    def insert_ids(self):\n",
        "        if not os.path.exists(self.path):\n",
        "            with open(self.path, 'w') as file:\n",
        "                for i in range(1, 30):\n",
        "                    student_id = f\"1{i:03}\"\n",
        "                    file.write(f\"{student_id}\\n\")\n",
        "                file.write(\"25\\n\")\n",
        "            print(f\"Specific roll numbers generated and saved to {self.path}.\")\n",
        "        else:\n",
        "            print(f\"File '{self.path}' already exists. No new rolls generated.\")\n",
        "\n",
        "    def get_random_ids(self, num_to_pick):\n",
        "        with open(self.path, 'r') as file:\n",
        "            student_ids = [line.strip() for line in file.readlines()]\n",
        "        if num_to_pick > len(student_ids):\n",
        "            print(\"You requested more IDs than are available in the file.\")\n",
        "            return []\n",
        "\n",
        "        return random.sample(student_ids, num_to_pick)\n",
        "\n",
        "def main():\n",
        "    path = \"/content/roll.txt.txt\"\n",
        "    manager = StudentIDManager(path)\n",
        "    manager.insert_ids()\n",
        "\n",
        "    try:\n",
        "        num_to_pick = int(input(\"How many random student IDs would you like to pick ? \"))\n",
        "        if 1 <= num_to_pick <= 30:\n",
        "            selected_ids = manager.get_random_ids(num_to_pick)\n",
        "            print(f\"Randomly selected student IDs: {selected_ids}\")\n",
        "        else:\n",
        "            print(\"Please enter a number between 1 and 30.\")\n",
        "    except ValueError:\n",
        "        print(\"Invalid input. Please enter a numeric value.\")\n",
        "\n",
        "if __name__ == \"__main__\":\n",
        "    main()\n"
      ]
    },
    {
      "cell_type": "code",
      "source": [],
      "metadata": {
        "id": "cpuGlnpAZOUr"
      },
      "execution_count": null,
      "outputs": []
    }
  ]
}